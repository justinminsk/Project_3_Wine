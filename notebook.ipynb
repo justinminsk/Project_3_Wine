{
 "cells": [
  {
   "cell_type": "markdown",
   "metadata": {
    "_cell_guid": "bdbb8487-7cf4-4a64-a278-5328112d428e",
    "_uuid": "bd35ab55b1941411abeb4f66aa85684d8d64e801"
   },
   "source": [
    "   # Finding the best 'College' Wine\n",
    "   \n",
    "   When people think of \"College\" wine many people think of the wine below, a cheap boxed wine with no flavor. I, however, have a different idea of what \"College\" wine should be.\n",
    "   \n",
    "   <img src=\"https://cdn.pastemagazine.com/www/blogs/lists/balck%20box.jpg\" width=200 height=200 />\n",
    "\n",
    " As a college student I like to buy things in what I call the college way, that means I like to buy wine for cheap, but I like wine that tastes good. Using this idea I decided to find the wines on this list of wine data with good scores (80-100, B or A) and a cheap price. The perfrect \"College\" wines."
   ]
  },
  {
   "cell_type": "markdown",
   "metadata": {
    "_cell_guid": "9effd884-d37f-4907-8dc9-799b16622992",
    "_uuid": "ee9a267e2c4c817e4aaf1d7c9ad63afb77abcf00"
   },
   "source": [
    "# Importing and Looking at the Data"
   ]
  },
  {
   "cell_type": "markdown",
   "metadata": {
    "_cell_guid": "a5d7549e-aff7-434b-a0a1-221c9648b868",
    "_uuid": "dcd5f92b56b09f3b554451d32cbe5556f31c0df1"
   },
   "source": [
    "  First we need import the libraries we will be using in our project."
   ]
  },
  {
   "cell_type": "code",
   "execution_count": 1,
   "metadata": {
    "_cell_guid": "4d11b446-3a09-4478-9996-085cdb67523f",
    "_uuid": "f0c182d093f420fdb17229379a4c1460101518b2",
    "collapsed": true
   },
   "outputs": [],
   "source": [
    "import numpy as np\n",
    "import pandas as pd\n",
    "import matplotlib.pyplot as plt\n",
    "import matplotlib as mpl\n",
    "import seaborn as sns\n",
    "from subprocess import check_output\n",
    "from wordcloud import WordCloud, STOPWORDS\n",
    "#import libraries"
   ]
  },
  {
   "cell_type": "markdown",
   "metadata": {
    "_cell_guid": "7e3515b7-e2d4-423c-97cf-d8e40143609e",
    "_uuid": "8d7b22b904f8f182a8332b474d83f68974bbfe4d"
   },
   "source": [
    "Then we bring in the data our data in using pandas. I also show you what the table looks like. It has great information from a description of the wine to the points and price. It also gives the country and region the wine is made in. "
   ]
  },
  {
   "cell_type": "code",
   "execution_count": 2,
   "metadata": {
    "_cell_guid": "98883dd9-e3b3-4b9c-a917-389e49c3b7fe",
    "_uuid": "b5666852164992f415dfa98af27ff54ae0a73db2"
   },
   "outputs": [
    {
     "data": {
      "text/html": [
       "<div>\n",
       "<style>\n",
       "    .dataframe thead tr:only-child th {\n",
       "        text-align: right;\n",
       "    }\n",
       "\n",
       "    .dataframe thead th {\n",
       "        text-align: left;\n",
       "    }\n",
       "\n",
       "    .dataframe tbody tr th {\n",
       "        vertical-align: top;\n",
       "    }\n",
       "</style>\n",
       "<table border=\"1\" class=\"dataframe\">\n",
       "  <thead>\n",
       "    <tr style=\"text-align: right;\">\n",
       "      <th></th>\n",
       "      <th>Unnamed: 0</th>\n",
       "      <th>country</th>\n",
       "      <th>description</th>\n",
       "      <th>designation</th>\n",
       "      <th>points</th>\n",
       "      <th>price</th>\n",
       "      <th>province</th>\n",
       "      <th>region_1</th>\n",
       "      <th>region_2</th>\n",
       "      <th>variety</th>\n",
       "      <th>winery</th>\n",
       "    </tr>\n",
       "  </thead>\n",
       "  <tbody>\n",
       "    <tr>\n",
       "      <th>0</th>\n",
       "      <td>0</td>\n",
       "      <td>US</td>\n",
       "      <td>This tremendous 100% varietal wine hails from ...</td>\n",
       "      <td>Martha's Vineyard</td>\n",
       "      <td>96</td>\n",
       "      <td>235.0</td>\n",
       "      <td>California</td>\n",
       "      <td>Napa Valley</td>\n",
       "      <td>Napa</td>\n",
       "      <td>Cabernet Sauvignon</td>\n",
       "      <td>Heitz</td>\n",
       "    </tr>\n",
       "    <tr>\n",
       "      <th>1</th>\n",
       "      <td>1</td>\n",
       "      <td>Spain</td>\n",
       "      <td>Ripe aromas of fig, blackberry and cassis are ...</td>\n",
       "      <td>Carodorum Selección Especial Reserva</td>\n",
       "      <td>96</td>\n",
       "      <td>110.0</td>\n",
       "      <td>Northern Spain</td>\n",
       "      <td>Toro</td>\n",
       "      <td>NaN</td>\n",
       "      <td>Tinta de Toro</td>\n",
       "      <td>Bodega Carmen Rodríguez</td>\n",
       "    </tr>\n",
       "    <tr>\n",
       "      <th>2</th>\n",
       "      <td>2</td>\n",
       "      <td>US</td>\n",
       "      <td>Mac Watson honors the memory of a wine once ma...</td>\n",
       "      <td>Special Selected Late Harvest</td>\n",
       "      <td>96</td>\n",
       "      <td>90.0</td>\n",
       "      <td>California</td>\n",
       "      <td>Knights Valley</td>\n",
       "      <td>Sonoma</td>\n",
       "      <td>Sauvignon Blanc</td>\n",
       "      <td>Macauley</td>\n",
       "    </tr>\n",
       "    <tr>\n",
       "      <th>3</th>\n",
       "      <td>3</td>\n",
       "      <td>US</td>\n",
       "      <td>This spent 20 months in 30% new French oak, an...</td>\n",
       "      <td>Reserve</td>\n",
       "      <td>96</td>\n",
       "      <td>65.0</td>\n",
       "      <td>Oregon</td>\n",
       "      <td>Willamette Valley</td>\n",
       "      <td>Willamette Valley</td>\n",
       "      <td>Pinot Noir</td>\n",
       "      <td>Ponzi</td>\n",
       "    </tr>\n",
       "    <tr>\n",
       "      <th>4</th>\n",
       "      <td>4</td>\n",
       "      <td>France</td>\n",
       "      <td>This is the top wine from La Bégude, named aft...</td>\n",
       "      <td>La Brûlade</td>\n",
       "      <td>95</td>\n",
       "      <td>66.0</td>\n",
       "      <td>Provence</td>\n",
       "      <td>Bandol</td>\n",
       "      <td>NaN</td>\n",
       "      <td>Provence red blend</td>\n",
       "      <td>Domaine de la Bégude</td>\n",
       "    </tr>\n",
       "  </tbody>\n",
       "</table>\n",
       "</div>"
      ],
      "text/plain": [
       "   Unnamed: 0 country                                        description  \\\n",
       "0           0      US  This tremendous 100% varietal wine hails from ...   \n",
       "1           1   Spain  Ripe aromas of fig, blackberry and cassis are ...   \n",
       "2           2      US  Mac Watson honors the memory of a wine once ma...   \n",
       "3           3      US  This spent 20 months in 30% new French oak, an...   \n",
       "4           4  France  This is the top wine from La Bégude, named aft...   \n",
       "\n",
       "                            designation  points  price        province  \\\n",
       "0                     Martha's Vineyard      96  235.0      California   \n",
       "1  Carodorum Selección Especial Reserva      96  110.0  Northern Spain   \n",
       "2         Special Selected Late Harvest      96   90.0      California   \n",
       "3                               Reserve      96   65.0          Oregon   \n",
       "4                            La Brûlade      95   66.0        Provence   \n",
       "\n",
       "            region_1           region_2             variety  \\\n",
       "0        Napa Valley               Napa  Cabernet Sauvignon   \n",
       "1               Toro                NaN       Tinta de Toro   \n",
       "2     Knights Valley             Sonoma     Sauvignon Blanc   \n",
       "3  Willamette Valley  Willamette Valley          Pinot Noir   \n",
       "4             Bandol                NaN  Provence red blend   \n",
       "\n",
       "                    winery  \n",
       "0                    Heitz  \n",
       "1  Bodega Carmen Rodríguez  \n",
       "2                 Macauley  \n",
       "3                    Ponzi  \n",
       "4     Domaine de la Bégude  "
      ]
     },
     "execution_count": 2,
     "metadata": {},
     "output_type": "execute_result"
    }
   ],
   "source": [
    "wine = pd.read_csv('winemag-data_first150k.csv')\n",
    "wine.head()\n",
    "#import data"
   ]
  },
  {
   "cell_type": "markdown",
   "metadata": {
    "_cell_guid": "450817b5-d49d-470e-97b6-3a2c49fc8f5c",
    "_uuid": "fcd29b2cc6d4ec3a3954c04b4ef318d831579921"
   },
   "source": [
    "Then we get rid of rows with 'NA' while some might still be useable many of them do not contain price which is not useful in our search for the best 'college wines'.."
   ]
  },
  {
   "cell_type": "code",
   "execution_count": 3,
   "metadata": {
    "_cell_guid": "9de8b6b1-f13c-4cc2-9858-0f125d77449b",
    "_uuid": "e394005a898ee4a5b9c53628b2340d9c9d47bca2",
    "collapsed": true
   },
   "outputs": [],
   "source": [
    "wine = wine.dropna()\n",
    "#get rid of rows with na"
   ]
  },
  {
   "cell_type": "markdown",
   "metadata": {
    "_cell_guid": "3289d2c0-6d33-4881-83e9-e4b9e20a472e",
    "_uuid": "2973a43992b7305a363fbcf7d48377d742e109f3"
   },
   "source": [
    "# Looking at Distributions"
   ]
  },
  {
   "cell_type": "markdown",
   "metadata": {
    "_cell_guid": "90824041-a496-4f56-bf65-7b5c366d150a",
    "_uuid": "2e8e6270d6069f3c27963a67b70e1b99acd073b3"
   },
   "source": [
    "It is always good to look at distributions, here we are looking at the point distribution. As you can see below it has a decent standard distribution."
   ]
  },
  {
   "cell_type": "code",
   "execution_count": 4,
   "metadata": {
    "_cell_guid": "59557d97-13fe-4165-a099-9936f03a892d",
    "_uuid": "41c3ac6e098343b8ed7b61947e29d2a0e043ea9e"
   },
   "outputs": [
    {
     "data": {
      "image/png": "[encoded data removed]",
      "text/plain": [
       "<matplotlib.figure.Figure at 0x27f3fe4b518>"
      ]
     },
     "metadata": {},
     "output_type": "display_data"
    }
   ],
   "source": [
    "sns.distplot(wine['points'], kde=False);\n",
    "plt.savefig('pointsBar.png', bbox_inches='tight')\n",
    "plt.show()\n",
    "#looking at the point distribution "
   ]
  },
  {
   "cell_type": "markdown",
   "metadata": {
    "_cell_guid": "5c1e0a50-2666-4285-b8f4-b9b2a1a6b511",
    "_uuid": "71325d95383286553e6839c32936c0e8a1a4c05f"
   },
   "source": [
    "Next we look at price distribution, this is pretty bunched up below 100 dollars. "
   ]
  },
  {
   "cell_type": "code",
   "execution_count": 5,
   "metadata": {
    "_cell_guid": "0ddc1e2c-4485-4bc6-83e5-a7fdc1760617",
    "_uuid": "1170505f7ebc83b5b2496ffe43afa5a8eb4292d7"
   },
   "outputs": [
    {
     "data": {
      "image/png": "[encoded data removed]",
      "text/plain": [
       "<matplotlib.figure.Figure at 0x27f398d8f98>"
      ]
     },
     "metadata": {},
     "output_type": "display_data"
    }
   ],
   "source": [
    "sns.distplot(wine['price'], kde=False);\n",
    "plt.savefig('priceBar.png', bbox_inches='tight')\n",
    "plt.show()\n",
    "#looking at distribution of price"
   ]
  },
  {
   "cell_type": "markdown",
   "metadata": {
    "_cell_guid": "d885379b-a637-4677-ab6b-b1340e0297e9",
    "_uuid": "6ebbf88b6e70dc597788dc9e0c4c7c54b18c08b9"
   },
   "source": [
    "This graph shows points and price in relation to each other. The points show the range of price at each point value. While the line shows that price does increase with the amount of points."
   ]
  },
  {
   "cell_type": "code",
   "execution_count": 6,
   "metadata": {
    "_cell_guid": "b027ba0e-e621-4982-a51e-11c9ceca1d52",
    "_uuid": "ba0f39a744518d42913afcb50781577884493d3e"
   },
   "outputs": [
    {
     "data": {
      "image/png": "[encoded data removed]",
      "text/plain": [
       "<matplotlib.figure.Figure at 0x27f3990b0f0>"
      ]
     },
     "metadata": {},
     "output_type": "display_data"
    }
   ],
   "source": [
    "sns.regplot(x='points', y='price', x_estimator=np.mean, data=wine)\n",
    "plt.savefig('pricePointsScatter.png', bbox_inches='tight')\n",
    "plt.show()\n",
    "#shows price and points on the same scale"
   ]
  },
  {
   "cell_type": "markdown",
   "metadata": {
    "_cell_guid": "9337fdba-9db7-4d01-9050-6cb1fa191576",
    "_uuid": "6d31095c423494e04aae4249b4a27207cedf0ac7"
   },
   "source": [
    "# Breaking the Data up and Adding Points/Price"
   ]
  },
  {
   "cell_type": "markdown",
   "metadata": {
    "_cell_guid": "e6c96fb2-dd7a-4b18-bd0f-141a62ccbebb",
    "_uuid": "c311fabf3b80cbb7048c5e79970e9ad4b868b98e"
   },
   "source": [
    "Here we combine points and price by dividing points by price to make an number representing the quality of wine divided by the price. "
   ]
  },
  {
   "cell_type": "code",
   "execution_count": 7,
   "metadata": {
    "_cell_guid": "635b5b3d-fe45-4bab-ad5a-59935e6335bd",
    "_uuid": "a0d2695a48d454a65fb7f8ce8db233286327489f",
    "collapsed": true
   },
   "outputs": [],
   "source": [
    "points_by_price = wine['points'] / wine['price']\n",
    "#create points divided by price\n",
    "s1 = pd.Series(points_by_price, name = 'Points by Price')\n",
    "#create a series with points divided by price\n",
    "wine2 = pd.concat([wine, s1], axis = 1)\n",
    "#add points by price to wine data"
   ]
  },
  {
   "cell_type": "markdown",
   "metadata": {
    "_cell_guid": "590eddd1-2208-4df3-ab46-d7cf00073143",
    "_uuid": "eaac24cfb7f32cc4da4b7d77b637602e8c5fb538"
   },
   "source": [
    "Here is that distribution which is more favorable to the lower pointed wine."
   ]
  },
  {
   "cell_type": "code",
   "execution_count": 8,
   "metadata": {
    "_cell_guid": "eaabe6cf-a114-499a-82df-fec36e8714d5",
    "_uuid": "08f4255edf948bb9e78bb7a2320e7bc32cc97998"
   },
   "outputs": [
    {
     "data": {
      "image/png": "[encoded data removed]",
      "text/plain": [
       "<matplotlib.figure.Figure at 0x27f399eb780>"
      ]
     },
     "metadata": {},
     "output_type": "display_data"
    }
   ],
   "source": [
    "sns.distplot(wine2['Points by Price'], kde=False);\n",
    "plt.savefig('pointsByPriceBar.png', bbox_inches='tight')\n",
    "plt.show()\n",
    "#look at distribution of points divided by price"
   ]
  },
  {
   "cell_type": "markdown",
   "metadata": {
    "_cell_guid": "386a9e3d-3135-4d29-9561-2a17e720042a",
    "_uuid": "6d9739640cbe69d3319648d2ed64fbd24617826f"
   },
   "source": [
    "Now as a US citizen it is easier for me to get US wine, I decided to focus on wine made in the US over other countries. I also look at the distribution which looks simlar to the points by price graph above with all of the data."
   ]
  },
  {
   "cell_type": "code",
   "execution_count": 9,
   "metadata": {
    "_cell_guid": "58561396-e185-4464-a15d-78e758013f9c",
    "_uuid": "73130bde1aef5e477f7ad96cdafdc4dbacce6c3f",
    "scrolled": true
   },
   "outputs": [
    {
     "data": {
      "image/png": "[encoded data removed]",
      "text/plain": [
       "<matplotlib.figure.Figure at 0x27f399eb390>"
      ]
     },
     "metadata": {},
     "output_type": "display_data"
    }
   ],
   "source": [
    "US = wine['country'].map(lambda x: str(x).startswith('US'))\n",
    "#get a boolean list with true being us in country\n",
    "USwine = wine2[US]\n",
    "#make a list of just us wines\n",
    "USwine = USwine.dropna()\n",
    "#drop na rows\n",
    "sns.distplot(USwine['Points by Price'], kde=False);\n",
    "plt.savefig('USpointsByPriceBar.png', bbox_inches='tight')\n",
    "plt.show()\n",
    "#look at distribution of wines"
   ]
  },
  {
   "cell_type": "markdown",
   "metadata": {
    "_cell_guid": "12f791a2-f797-4d20-ad9f-56038b84a8aa",
    "_uuid": "5960dc7ba8153dc730c10ce5a70032a6db2240ee"
   },
   "source": [
    "# Top US 'College' Wines"
   ]
  },
  {
   "cell_type": "markdown",
   "metadata": {
    "_cell_guid": "7092d368-8e21-46db-b8b6-aee6a9d6bb81",
    "_uuid": "aeb04b4c59c40154b032f916422a96625a3938e4"
   },
   "source": [
    "Here are the top ten \"College\" wines.\n",
    "\n",
    "The one I would try on this list would be the Gallo Family Vineyard Cabernet Sauvignon which is number three on our list.\n",
    "<img src=\"https://www.drinkupessex.uk/wp-content/uploads/2015/07/gallo-family-vineyards-cabernet-sauvignon-red-wine.jpg\" width=400 height=400 />\n",
    "Which comes from California, but not from a normal wine region in California. It is also a grand total of 5 USD, cheap and it has a score of 85 which even off a ten point scale is a B."
   ]
  },
  {
   "cell_type": "code",
   "execution_count": 10,
   "metadata": {
    "_cell_guid": "08ebe51e-2968-4557-9ce4-21661162f91d",
    "_uuid": "84aba3fb2ed2361957209886d75266810f693be6",
    "scrolled": true
   },
   "outputs": [
    {
     "data": {
      "text/html": [
       "<div>\n",
       "<style>\n",
       "    .dataframe thead tr:only-child th {\n",
       "        text-align: right;\n",
       "    }\n",
       "\n",
       "    .dataframe thead th {\n",
       "        text-align: left;\n",
       "    }\n",
       "\n",
       "    .dataframe tbody tr th {\n",
       "        vertical-align: top;\n",
       "    }\n",
       "</style>\n",
       "<table border=\"1\" class=\"dataframe\">\n",
       "  <thead>\n",
       "    <tr style=\"text-align: right;\">\n",
       "      <th></th>\n",
       "      <th>Unnamed: 0</th>\n",
       "      <th>country</th>\n",
       "      <th>description</th>\n",
       "      <th>designation</th>\n",
       "      <th>points</th>\n",
       "      <th>price</th>\n",
       "      <th>province</th>\n",
       "      <th>region_1</th>\n",
       "      <th>region_2</th>\n",
       "      <th>variety</th>\n",
       "      <th>winery</th>\n",
       "      <th>Points by Price</th>\n",
       "    </tr>\n",
       "  </thead>\n",
       "  <tbody>\n",
       "    <tr>\n",
       "      <th>114167</th>\n",
       "      <td>114167</td>\n",
       "      <td>US</td>\n",
       "      <td>Easy, simple peach and strawberry flavors are ...</td>\n",
       "      <td>White Zinfandel</td>\n",
       "      <td>83</td>\n",
       "      <td>4.0</td>\n",
       "      <td>California</td>\n",
       "      <td>California</td>\n",
       "      <td>California Other</td>\n",
       "      <td>Zinfandel</td>\n",
       "      <td>Round Hill</td>\n",
       "      <td>20.75</td>\n",
       "    </tr>\n",
       "    <tr>\n",
       "      <th>1858</th>\n",
       "      <td>1858</td>\n",
       "      <td>US</td>\n",
       "      <td>Sweet and fruity, this canned wine feels soft ...</td>\n",
       "      <td>Unoaked</td>\n",
       "      <td>83</td>\n",
       "      <td>4.0</td>\n",
       "      <td>California</td>\n",
       "      <td>California</td>\n",
       "      <td>California Other</td>\n",
       "      <td>Chardonnay</td>\n",
       "      <td>Pam's Cuties</td>\n",
       "      <td>20.75</td>\n",
       "    </tr>\n",
       "    <tr>\n",
       "      <th>113519</th>\n",
       "      <td>113519</td>\n",
       "      <td>US</td>\n",
       "      <td>For five bucks you get plenty of lush cherry-b...</td>\n",
       "      <td>Twin Valley</td>\n",
       "      <td>85</td>\n",
       "      <td>5.0</td>\n",
       "      <td>California</td>\n",
       "      <td>California</td>\n",
       "      <td>California Other</td>\n",
       "      <td>Cabernet Sauvignon</td>\n",
       "      <td>Gallo Family Vineyards</td>\n",
       "      <td>17.00</td>\n",
       "    </tr>\n",
       "    <tr>\n",
       "      <th>134729</th>\n",
       "      <td>134729</td>\n",
       "      <td>US</td>\n",
       "      <td>For five bucks you get plenty of lush cherry-b...</td>\n",
       "      <td>Twin Valley</td>\n",
       "      <td>85</td>\n",
       "      <td>5.0</td>\n",
       "      <td>California</td>\n",
       "      <td>California</td>\n",
       "      <td>California Other</td>\n",
       "      <td>Cabernet Sauvignon</td>\n",
       "      <td>Gallo Family Vineyards</td>\n",
       "      <td>17.00</td>\n",
       "    </tr>\n",
       "    <tr>\n",
       "      <th>113636</th>\n",
       "      <td>113636</td>\n",
       "      <td>US</td>\n",
       "      <td>This dry, crisp rosé is 100% Cabernet Sauvigno...</td>\n",
       "      <td>Autumn's Blush</td>\n",
       "      <td>84</td>\n",
       "      <td>5.0</td>\n",
       "      <td>California</td>\n",
       "      <td>Lodi</td>\n",
       "      <td>Central Valley</td>\n",
       "      <td>Cabernet Sauvignon</td>\n",
       "      <td>Peirano</td>\n",
       "      <td>16.80</td>\n",
       "    </tr>\n",
       "    <tr>\n",
       "      <th>150386</th>\n",
       "      <td>150386</td>\n",
       "      <td>US</td>\n",
       "      <td>This dry, crisp rosé is 100% Cabernet Sauvigno...</td>\n",
       "      <td>Autumn's Blush</td>\n",
       "      <td>84</td>\n",
       "      <td>5.0</td>\n",
       "      <td>California</td>\n",
       "      <td>Lodi</td>\n",
       "      <td>Central Valley</td>\n",
       "      <td>Cabernet Sauvignon</td>\n",
       "      <td>Peirano</td>\n",
       "      <td>16.80</td>\n",
       "    </tr>\n",
       "    <tr>\n",
       "      <th>114362</th>\n",
       "      <td>114362</td>\n",
       "      <td>US</td>\n",
       "      <td>The red that helped build the House of Gallo n...</td>\n",
       "      <td>Hearty Burgundy</td>\n",
       "      <td>84</td>\n",
       "      <td>5.0</td>\n",
       "      <td>California</td>\n",
       "      <td>California</td>\n",
       "      <td>California Other</td>\n",
       "      <td>Red Blend</td>\n",
       "      <td>Gallo Family Vineyards</td>\n",
       "      <td>16.80</td>\n",
       "    </tr>\n",
       "    <tr>\n",
       "      <th>113776</th>\n",
       "      <td>113776</td>\n",
       "      <td>US</td>\n",
       "      <td>When I was getting into wine, Gallo's inexpens...</td>\n",
       "      <td>Twin Valley</td>\n",
       "      <td>84</td>\n",
       "      <td>5.0</td>\n",
       "      <td>California</td>\n",
       "      <td>California</td>\n",
       "      <td>California Other</td>\n",
       "      <td>Sauvignon Blanc</td>\n",
       "      <td>Gallo Family Vineyards</td>\n",
       "      <td>16.80</td>\n",
       "    </tr>\n",
       "    <tr>\n",
       "      <th>68576</th>\n",
       "      <td>68576</td>\n",
       "      <td>US</td>\n",
       "      <td>This dry, crisp rosé is 100% Cabernet Sauvigno...</td>\n",
       "      <td>Autumn's Blush</td>\n",
       "      <td>84</td>\n",
       "      <td>5.0</td>\n",
       "      <td>California</td>\n",
       "      <td>Lodi</td>\n",
       "      <td>Central Valley</td>\n",
       "      <td>Cabernet Sauvignon</td>\n",
       "      <td>Peirano</td>\n",
       "      <td>16.80</td>\n",
       "    </tr>\n",
       "    <tr>\n",
       "      <th>135046</th>\n",
       "      <td>135046</td>\n",
       "      <td>US</td>\n",
       "      <td>When I was getting into wine, Gallo's inexpens...</td>\n",
       "      <td>Twin Valley</td>\n",
       "      <td>84</td>\n",
       "      <td>5.0</td>\n",
       "      <td>California</td>\n",
       "      <td>California</td>\n",
       "      <td>California Other</td>\n",
       "      <td>Sauvignon Blanc</td>\n",
       "      <td>Gallo Family Vineyards</td>\n",
       "      <td>16.80</td>\n",
       "    </tr>\n",
       "  </tbody>\n",
       "</table>\n",
       "</div>"
      ],
      "text/plain": [
       "        Unnamed: 0 country                                        description  \\\n",
       "114167      114167      US  Easy, simple peach and strawberry flavors are ...   \n",
       "1858          1858      US  Sweet and fruity, this canned wine feels soft ...   \n",
       "113519      113519      US  For five bucks you get plenty of lush cherry-b...   \n",
       "134729      134729      US  For five bucks you get plenty of lush cherry-b...   \n",
       "113636      113636      US  This dry, crisp rosé is 100% Cabernet Sauvigno...   \n",
       "150386      150386      US  This dry, crisp rosé is 100% Cabernet Sauvigno...   \n",
       "114362      114362      US  The red that helped build the House of Gallo n...   \n",
       "113776      113776      US  When I was getting into wine, Gallo's inexpens...   \n",
       "68576        68576      US  This dry, crisp rosé is 100% Cabernet Sauvigno...   \n",
       "135046      135046      US  When I was getting into wine, Gallo's inexpens...   \n",
       "\n",
       "            designation  points  price    province    region_1  \\\n",
       "114167  White Zinfandel      83    4.0  California  California   \n",
       "1858            Unoaked      83    4.0  California  California   \n",
       "113519      Twin Valley      85    5.0  California  California   \n",
       "134729      Twin Valley      85    5.0  California  California   \n",
       "113636   Autumn's Blush      84    5.0  California        Lodi   \n",
       "150386   Autumn's Blush      84    5.0  California        Lodi   \n",
       "114362  Hearty Burgundy      84    5.0  California  California   \n",
       "113776      Twin Valley      84    5.0  California  California   \n",
       "68576    Autumn's Blush      84    5.0  California        Lodi   \n",
       "135046      Twin Valley      84    5.0  California  California   \n",
       "\n",
       "                region_2             variety                  winery  \\\n",
       "114167  California Other           Zinfandel              Round Hill   \n",
       "1858    California Other          Chardonnay            Pam's Cuties   \n",
       "113519  California Other  Cabernet Sauvignon  Gallo Family Vineyards   \n",
       "134729  California Other  Cabernet Sauvignon  Gallo Family Vineyards   \n",
       "113636    Central Valley  Cabernet Sauvignon                 Peirano   \n",
       "150386    Central Valley  Cabernet Sauvignon                 Peirano   \n",
       "114362  California Other           Red Blend  Gallo Family Vineyards   \n",
       "113776  California Other     Sauvignon Blanc  Gallo Family Vineyards   \n",
       "68576     Central Valley  Cabernet Sauvignon                 Peirano   \n",
       "135046  California Other     Sauvignon Blanc  Gallo Family Vineyards   \n",
       "\n",
       "        Points by Price  \n",
       "114167            20.75  \n",
       "1858              20.75  \n",
       "113519            17.00  \n",
       "134729            17.00  \n",
       "113636            16.80  \n",
       "150386            16.80  \n",
       "114362            16.80  \n",
       "113776            16.80  \n",
       "68576             16.80  \n",
       "135046            16.80  "
      ]
     },
     "execution_count": 10,
     "metadata": {},
     "output_type": "execute_result"
    }
   ],
   "source": [
    "sorted_US = USwine.sort_values(by = ['Points by Price'], ascending=False)\n",
    "#look at the list sorted by points by price\n",
    "sorted_US.head(10)\n",
    "#look at top ten"
   ]
  },
  {
   "cell_type": "markdown",
   "metadata": {
    "_cell_guid": "6fd0a037-23cd-4208-9079-f0dab8815f27",
    "_uuid": "9e1c7d6f4517c7ef2898dc1bc2376a946c4890a4"
   },
   "source": [
    "Looking at the top ten wines you can see that it favors the lower point wines more than I though so here is the top ten wines 90 or higher. \n",
    "My pick from the list would be the Arbor Crest Sauvignon Blanc at number 4 on this list.\n",
    "<img src=\"https://thewashingtonvine.files.wordpress.com/2012/08/img_1899.jpg\" width=200 height=200 />\n",
    "\n",
    "This can be found a Washington State which I am now seeing seems to be a larger wine producer in the US then I thought. This wine is still only 8 USD, still cheap and has a score of 91 or an A on a ten point scale."
   ]
  },
  {
   "cell_type": "code",
   "execution_count": 11,
   "metadata": {
    "_cell_guid": "16c36130-ee4a-47e1-b97e-ff1cd15aa1ca",
    "_uuid": "00edcec2f1512c93c932a1704d52a1fb9afcb9d8"
   },
   "outputs": [
    {
     "data": {
      "text/html": [
       "<div>\n",
       "<style>\n",
       "    .dataframe thead tr:only-child th {\n",
       "        text-align: right;\n",
       "    }\n",
       "\n",
       "    .dataframe thead th {\n",
       "        text-align: left;\n",
       "    }\n",
       "\n",
       "    .dataframe tbody tr th {\n",
       "        vertical-align: top;\n",
       "    }\n",
       "</style>\n",
       "<table border=\"1\" class=\"dataframe\">\n",
       "  <thead>\n",
       "    <tr style=\"text-align: right;\">\n",
       "      <th></th>\n",
       "      <th>Unnamed: 0</th>\n",
       "      <th>country</th>\n",
       "      <th>description</th>\n",
       "      <th>designation</th>\n",
       "      <th>points</th>\n",
       "      <th>price</th>\n",
       "      <th>province</th>\n",
       "      <th>region_1</th>\n",
       "      <th>region_2</th>\n",
       "      <th>variety</th>\n",
       "      <th>winery</th>\n",
       "      <th>Points by Price</th>\n",
       "    </tr>\n",
       "  </thead>\n",
       "  <tbody>\n",
       "    <tr>\n",
       "      <th>69768</th>\n",
       "      <td>69768</td>\n",
       "      <td>US</td>\n",
       "      <td>Very classy, and classic, WA Riesling, with ju...</td>\n",
       "      <td>Johannisberg</td>\n",
       "      <td>90</td>\n",
       "      <td>7.0</td>\n",
       "      <td>Washington</td>\n",
       "      <td>Washington</td>\n",
       "      <td>Washington Other</td>\n",
       "      <td>Riesling</td>\n",
       "      <td>Latah Creek</td>\n",
       "      <td>12.857143</td>\n",
       "    </tr>\n",
       "    <tr>\n",
       "      <th>140448</th>\n",
       "      <td>140448</td>\n",
       "      <td>US</td>\n",
       "      <td>Very classy, and classic, WA Riesling, with ju...</td>\n",
       "      <td>Johannisberg</td>\n",
       "      <td>90</td>\n",
       "      <td>7.0</td>\n",
       "      <td>Washington</td>\n",
       "      <td>Washington</td>\n",
       "      <td>Washington Other</td>\n",
       "      <td>Riesling</td>\n",
       "      <td>Latah Creek</td>\n",
       "      <td>12.857143</td>\n",
       "    </tr>\n",
       "    <tr>\n",
       "      <th>110140</th>\n",
       "      <td>110140</td>\n",
       "      <td>US</td>\n",
       "      <td>With full ripeness, density and concentration,...</td>\n",
       "      <td>Winemaker's Select</td>\n",
       "      <td>91</td>\n",
       "      <td>8.0</td>\n",
       "      <td>Washington</td>\n",
       "      <td>Columbia Valley (WA)</td>\n",
       "      <td>Columbia Valley</td>\n",
       "      <td>Riesling</td>\n",
       "      <td>Snoqualmie</td>\n",
       "      <td>11.375000</td>\n",
       "    </tr>\n",
       "    <tr>\n",
       "      <th>19989</th>\n",
       "      <td>19989</td>\n",
       "      <td>US</td>\n",
       "      <td>Pungent aromas of concentrated stone fruits, b...</td>\n",
       "      <td>Bacchus Vineyard</td>\n",
       "      <td>91</td>\n",
       "      <td>8.0</td>\n",
       "      <td>Washington</td>\n",
       "      <td>Columbia Valley (WA)</td>\n",
       "      <td>Columbia Valley</td>\n",
       "      <td>Sauvignon Blanc</td>\n",
       "      <td>Arbor Crest</td>\n",
       "      <td>11.375000</td>\n",
       "    </tr>\n",
       "    <tr>\n",
       "      <th>63859</th>\n",
       "      <td>63859</td>\n",
       "      <td>US</td>\n",
       "      <td>Future vintages of this wine will bear the new...</td>\n",
       "      <td>Klipsun Vineyard</td>\n",
       "      <td>90</td>\n",
       "      <td>8.0</td>\n",
       "      <td>Washington</td>\n",
       "      <td>Columbia Valley (WA)</td>\n",
       "      <td>Columbia Valley</td>\n",
       "      <td>Sauvignon Blanc</td>\n",
       "      <td>Waterbrook</td>\n",
       "      <td>11.250000</td>\n",
       "    </tr>\n",
       "    <tr>\n",
       "      <th>49386</th>\n",
       "      <td>49386</td>\n",
       "      <td>US</td>\n",
       "      <td>Mostly old vine (mid-1970s) Riesling, this has...</td>\n",
       "      <td>White</td>\n",
       "      <td>90</td>\n",
       "      <td>8.0</td>\n",
       "      <td>Washington</td>\n",
       "      <td>Columbia Valley (WA)</td>\n",
       "      <td>Columbia Valley</td>\n",
       "      <td>Riesling</td>\n",
       "      <td>Barnard Griffin</td>\n",
       "      <td>11.250000</td>\n",
       "    </tr>\n",
       "    <tr>\n",
       "      <th>15438</th>\n",
       "      <td>15438</td>\n",
       "      <td>US</td>\n",
       "      <td>This is an astonishing value, especially from ...</td>\n",
       "      <td>Reserve</td>\n",
       "      <td>90</td>\n",
       "      <td>8.0</td>\n",
       "      <td>California</td>\n",
       "      <td>Sonoma Coast</td>\n",
       "      <td>Sonoma</td>\n",
       "      <td>Pinot Noir</td>\n",
       "      <td>Gallo of Sonoma</td>\n",
       "      <td>11.250000</td>\n",
       "    </tr>\n",
       "    <tr>\n",
       "      <th>148699</th>\n",
       "      <td>148699</td>\n",
       "      <td>US</td>\n",
       "      <td>Future vintages of this wine will bear the new...</td>\n",
       "      <td>Klipsun Vineyard</td>\n",
       "      <td>90</td>\n",
       "      <td>8.0</td>\n",
       "      <td>Washington</td>\n",
       "      <td>Columbia Valley (WA)</td>\n",
       "      <td>Columbia Valley</td>\n",
       "      <td>Sauvignon Blanc</td>\n",
       "      <td>Waterbrook</td>\n",
       "      <td>11.250000</td>\n",
       "    </tr>\n",
       "    <tr>\n",
       "      <th>145398</th>\n",
       "      <td>145398</td>\n",
       "      <td>US</td>\n",
       "      <td>This is an astonishing value, especially from ...</td>\n",
       "      <td>Reserve</td>\n",
       "      <td>90</td>\n",
       "      <td>8.0</td>\n",
       "      <td>California</td>\n",
       "      <td>Sonoma Coast</td>\n",
       "      <td>Sonoma</td>\n",
       "      <td>Pinot Noir</td>\n",
       "      <td>Gallo of Sonoma</td>\n",
       "      <td>11.250000</td>\n",
       "    </tr>\n",
       "    <tr>\n",
       "      <th>53469</th>\n",
       "      <td>53469</td>\n",
       "      <td>US</td>\n",
       "      <td>This tangy, all-stainless, lightly grassy, dry...</td>\n",
       "      <td>Fumé Blanc</td>\n",
       "      <td>91</td>\n",
       "      <td>9.0</td>\n",
       "      <td>Washington</td>\n",
       "      <td>Columbia Valley (WA)</td>\n",
       "      <td>Columbia Valley</td>\n",
       "      <td>Sauvignon Blanc</td>\n",
       "      <td>Barnard Griffin</td>\n",
       "      <td>10.111111</td>\n",
       "    </tr>\n",
       "  </tbody>\n",
       "</table>\n",
       "</div>"
      ],
      "text/plain": [
       "        Unnamed: 0 country                                        description  \\\n",
       "69768        69768      US  Very classy, and classic, WA Riesling, with ju...   \n",
       "140448      140448      US  Very classy, and classic, WA Riesling, with ju...   \n",
       "110140      110140      US  With full ripeness, density and concentration,...   \n",
       "19989        19989      US  Pungent aromas of concentrated stone fruits, b...   \n",
       "63859        63859      US  Future vintages of this wine will bear the new...   \n",
       "49386        49386      US  Mostly old vine (mid-1970s) Riesling, this has...   \n",
       "15438        15438      US  This is an astonishing value, especially from ...   \n",
       "148699      148699      US  Future vintages of this wine will bear the new...   \n",
       "145398      145398      US  This is an astonishing value, especially from ...   \n",
       "53469        53469      US  This tangy, all-stainless, lightly grassy, dry...   \n",
       "\n",
       "               designation  points  price    province              region_1  \\\n",
       "69768         Johannisberg      90    7.0  Washington            Washington   \n",
       "140448        Johannisberg      90    7.0  Washington            Washington   \n",
       "110140  Winemaker's Select      91    8.0  Washington  Columbia Valley (WA)   \n",
       "19989     Bacchus Vineyard      91    8.0  Washington  Columbia Valley (WA)   \n",
       "63859     Klipsun Vineyard      90    8.0  Washington  Columbia Valley (WA)   \n",
       "49386                White      90    8.0  Washington  Columbia Valley (WA)   \n",
       "15438              Reserve      90    8.0  California          Sonoma Coast   \n",
       "148699    Klipsun Vineyard      90    8.0  Washington  Columbia Valley (WA)   \n",
       "145398             Reserve      90    8.0  California          Sonoma Coast   \n",
       "53469           Fumé Blanc      91    9.0  Washington  Columbia Valley (WA)   \n",
       "\n",
       "                region_2          variety           winery  Points by Price  \n",
       "69768   Washington Other         Riesling      Latah Creek        12.857143  \n",
       "140448  Washington Other         Riesling      Latah Creek        12.857143  \n",
       "110140   Columbia Valley         Riesling       Snoqualmie        11.375000  \n",
       "19989    Columbia Valley  Sauvignon Blanc      Arbor Crest        11.375000  \n",
       "63859    Columbia Valley  Sauvignon Blanc       Waterbrook        11.250000  \n",
       "49386    Columbia Valley         Riesling  Barnard Griffin        11.250000  \n",
       "15438             Sonoma       Pinot Noir  Gallo of Sonoma        11.250000  \n",
       "148699   Columbia Valley  Sauvignon Blanc       Waterbrook        11.250000  \n",
       "145398            Sonoma       Pinot Noir  Gallo of Sonoma        11.250000  \n",
       "53469    Columbia Valley  Sauvignon Blanc  Barnard Griffin        10.111111  "
      ]
     },
     "execution_count": 11,
     "metadata": {},
     "output_type": "execute_result"
    }
   ],
   "source": [
    "GT80 = USwine['points'].map(lambda x: x > 89)\n",
    "#only look at points 90 or above\n",
    "GT80USwine = USwine[GT80]\n",
    "#turn it into a series\n",
    "sorted_US = GT80USwine.sort_values(by = ['Points by Price'], ascending=False)\n",
    "#sort by points by price\n",
    "sorted_US.head(10)\n",
    "#look at top ten"
   ]
  },
  {
   "cell_type": "markdown",
   "metadata": {
    "_cell_guid": "60097055-8e88-4290-a292-4a5d7184c720",
    "_uuid": "5f2ca103d99cad2e8359824f56a2ac06b343c461"
   },
   "source": [
    "Just in case you want to get some fancy \"College\" wine here are the top ten wines pointed 95 or higher. I like a good Riesling and Januik's is top of our list.\n",
    "<img src=\"https://cdn.nexternal.com/nhj/images/2015RieslingBacchusNV.jpg\" width=\"200\" height=\"200\" />\n",
    "Here is the wine you would be looking for and with this table you can find wine region which is the Columbia Valley which a map of that region is this,\n",
    "<img src=\"http://winefolly.wpengine.netdna-cdn.com/wp-content/uploads/2017/02/USA-Washington-Wine-Map-Wine-Folly.jpg\" width=\"500\" height=\"500\" />\n",
    "This wine is starting to be more on the expensive side with a 20 USD price tag, but with a 95 score it is a strong A."
   ]
  },
  {
   "cell_type": "code",
   "execution_count": 12,
   "metadata": {
    "_cell_guid": "2356dd4b-2675-4c45-ab7a-4373df8fdae2",
    "_uuid": "6ca856f6206ae51ac64ef5d25630d69fcc788fc9"
   },
   "outputs": [
    {
     "data": {
      "text/html": [
       "<div>\n",
       "<style>\n",
       "    .dataframe thead tr:only-child th {\n",
       "        text-align: right;\n",
       "    }\n",
       "\n",
       "    .dataframe thead th {\n",
       "        text-align: left;\n",
       "    }\n",
       "\n",
       "    .dataframe tbody tr th {\n",
       "        vertical-align: top;\n",
       "    }\n",
       "</style>\n",
       "<table border=\"1\" class=\"dataframe\">\n",
       "  <thead>\n",
       "    <tr style=\"text-align: right;\">\n",
       "      <th></th>\n",
       "      <th>Unnamed: 0</th>\n",
       "      <th>country</th>\n",
       "      <th>description</th>\n",
       "      <th>designation</th>\n",
       "      <th>points</th>\n",
       "      <th>price</th>\n",
       "      <th>province</th>\n",
       "      <th>region_1</th>\n",
       "      <th>region_2</th>\n",
       "      <th>variety</th>\n",
       "      <th>winery</th>\n",
       "      <th>Points by Price</th>\n",
       "    </tr>\n",
       "  </thead>\n",
       "  <tbody>\n",
       "    <tr>\n",
       "      <th>51461</th>\n",
       "      <td>51461</td>\n",
       "      <td>US</td>\n",
       "      <td>Spectacular is the word that comes to mind her...</td>\n",
       "      <td>Bacchus Vineyard</td>\n",
       "      <td>95</td>\n",
       "      <td>20.0</td>\n",
       "      <td>Washington</td>\n",
       "      <td>Columbia Valley (WA)</td>\n",
       "      <td>Columbia Valley</td>\n",
       "      <td>Riesling</td>\n",
       "      <td>Januik</td>\n",
       "      <td>4.750000</td>\n",
       "    </tr>\n",
       "    <tr>\n",
       "      <th>85050</th>\n",
       "      <td>85050</td>\n",
       "      <td>US</td>\n",
       "      <td>Truly stunning, the Lewis Estate Riesling from...</td>\n",
       "      <td>Lewis Estate Vineyard</td>\n",
       "      <td>95</td>\n",
       "      <td>20.0</td>\n",
       "      <td>Washington</td>\n",
       "      <td>Columbia Valley (WA)</td>\n",
       "      <td>Columbia Valley</td>\n",
       "      <td>Riesling</td>\n",
       "      <td>Dunham</td>\n",
       "      <td>4.750000</td>\n",
       "    </tr>\n",
       "    <tr>\n",
       "      <th>136525</th>\n",
       "      <td>136525</td>\n",
       "      <td>US</td>\n",
       "      <td>This dessert wine has pushed itself to the fro...</td>\n",
       "      <td>Tears of Dew Late Harvest</td>\n",
       "      <td>95</td>\n",
       "      <td>22.0</td>\n",
       "      <td>California</td>\n",
       "      <td>Paso Robles</td>\n",
       "      <td>Central Coast</td>\n",
       "      <td>Moscato</td>\n",
       "      <td>EOS</td>\n",
       "      <td>4.318182</td>\n",
       "    </tr>\n",
       "    <tr>\n",
       "      <th>130255</th>\n",
       "      <td>130255</td>\n",
       "      <td>US</td>\n",
       "      <td>With 21% residual sugar, this is an enormously...</td>\n",
       "      <td>Tears of Dew Late Harvest</td>\n",
       "      <td>95</td>\n",
       "      <td>22.0</td>\n",
       "      <td>California</td>\n",
       "      <td>Paso Robles</td>\n",
       "      <td>Central Coast</td>\n",
       "      <td>Moscato</td>\n",
       "      <td>EOS</td>\n",
       "      <td>4.318182</td>\n",
       "    </tr>\n",
       "    <tr>\n",
       "      <th>115165</th>\n",
       "      <td>115165</td>\n",
       "      <td>US</td>\n",
       "      <td>This dessert wine has pushed itself to the fro...</td>\n",
       "      <td>Tears of Dew Late Harvest</td>\n",
       "      <td>95</td>\n",
       "      <td>22.0</td>\n",
       "      <td>California</td>\n",
       "      <td>Paso Robles</td>\n",
       "      <td>Central Coast</td>\n",
       "      <td>Moscato</td>\n",
       "      <td>EOS</td>\n",
       "      <td>4.318182</td>\n",
       "    </tr>\n",
       "    <tr>\n",
       "      <th>102565</th>\n",
       "      <td>102565</td>\n",
       "      <td>US</td>\n",
       "      <td>With 21% residual sugar, this is an enormously...</td>\n",
       "      <td>Tears of Dew Late Harvest</td>\n",
       "      <td>95</td>\n",
       "      <td>22.0</td>\n",
       "      <td>California</td>\n",
       "      <td>Paso Robles</td>\n",
       "      <td>Central Coast</td>\n",
       "      <td>Moscato</td>\n",
       "      <td>EOS</td>\n",
       "      <td>4.318182</td>\n",
       "    </tr>\n",
       "    <tr>\n",
       "      <th>20</th>\n",
       "      <td>20</td>\n",
       "      <td>US</td>\n",
       "      <td>Heitz has made this stellar rosé from the rare...</td>\n",
       "      <td>Grignolino</td>\n",
       "      <td>95</td>\n",
       "      <td>24.0</td>\n",
       "      <td>California</td>\n",
       "      <td>Napa Valley</td>\n",
       "      <td>Napa</td>\n",
       "      <td>Rosé</td>\n",
       "      <td>Heitz</td>\n",
       "      <td>3.958333</td>\n",
       "    </tr>\n",
       "    <tr>\n",
       "      <th>137390</th>\n",
       "      <td>137390</td>\n",
       "      <td>US</td>\n",
       "      <td>Among McCrea's Rhône-inspired white wines, thi...</td>\n",
       "      <td>Boushey Vineyard Sirocco Blanc</td>\n",
       "      <td>95</td>\n",
       "      <td>25.0</td>\n",
       "      <td>Washington</td>\n",
       "      <td>Yakima Valley</td>\n",
       "      <td>Columbia Valley</td>\n",
       "      <td>White Blend</td>\n",
       "      <td>McCrea</td>\n",
       "      <td>3.800000</td>\n",
       "    </tr>\n",
       "    <tr>\n",
       "      <th>137384</th>\n",
       "      <td>137384</td>\n",
       "      <td>US</td>\n",
       "      <td>Beautifully floral, fragrant and evocative, wi...</td>\n",
       "      <td>Sémillon-Sauvignon-Muscadelle</td>\n",
       "      <td>95</td>\n",
       "      <td>25.0</td>\n",
       "      <td>Washington</td>\n",
       "      <td>Columbia Valley (WA)</td>\n",
       "      <td>Columbia Valley</td>\n",
       "      <td>Semillon-Sauvignon Blanc</td>\n",
       "      <td>Buty</td>\n",
       "      <td>3.800000</td>\n",
       "    </tr>\n",
       "    <tr>\n",
       "      <th>56985</th>\n",
       "      <td>56985</td>\n",
       "      <td>US</td>\n",
       "      <td>Massively fruity and oaky, this is an atom bom...</td>\n",
       "      <td>Los Alamos Vineyard</td>\n",
       "      <td>95</td>\n",
       "      <td>25.0</td>\n",
       "      <td>California</td>\n",
       "      <td>Santa Barbara County</td>\n",
       "      <td>Central Coast</td>\n",
       "      <td>Chardonnay</td>\n",
       "      <td>Au Bon Climat</td>\n",
       "      <td>3.800000</td>\n",
       "    </tr>\n",
       "  </tbody>\n",
       "</table>\n",
       "</div>"
      ],
      "text/plain": [
       "        Unnamed: 0 country                                        description  \\\n",
       "51461        51461      US  Spectacular is the word that comes to mind her...   \n",
       "85050        85050      US  Truly stunning, the Lewis Estate Riesling from...   \n",
       "136525      136525      US  This dessert wine has pushed itself to the fro...   \n",
       "130255      130255      US  With 21% residual sugar, this is an enormously...   \n",
       "115165      115165      US  This dessert wine has pushed itself to the fro...   \n",
       "102565      102565      US  With 21% residual sugar, this is an enormously...   \n",
       "20              20      US  Heitz has made this stellar rosé from the rare...   \n",
       "137390      137390      US  Among McCrea's Rhône-inspired white wines, thi...   \n",
       "137384      137384      US  Beautifully floral, fragrant and evocative, wi...   \n",
       "56985        56985      US  Massively fruity and oaky, this is an atom bom...   \n",
       "\n",
       "                           designation  points  price    province  \\\n",
       "51461                 Bacchus Vineyard      95   20.0  Washington   \n",
       "85050            Lewis Estate Vineyard      95   20.0  Washington   \n",
       "136525       Tears of Dew Late Harvest      95   22.0  California   \n",
       "130255       Tears of Dew Late Harvest      95   22.0  California   \n",
       "115165       Tears of Dew Late Harvest      95   22.0  California   \n",
       "102565       Tears of Dew Late Harvest      95   22.0  California   \n",
       "20                          Grignolino      95   24.0  California   \n",
       "137390  Boushey Vineyard Sirocco Blanc      95   25.0  Washington   \n",
       "137384   Sémillon-Sauvignon-Muscadelle      95   25.0  Washington   \n",
       "56985              Los Alamos Vineyard      95   25.0  California   \n",
       "\n",
       "                    region_1         region_2                   variety  \\\n",
       "51461   Columbia Valley (WA)  Columbia Valley                  Riesling   \n",
       "85050   Columbia Valley (WA)  Columbia Valley                  Riesling   \n",
       "136525           Paso Robles    Central Coast                   Moscato   \n",
       "130255           Paso Robles    Central Coast                   Moscato   \n",
       "115165           Paso Robles    Central Coast                   Moscato   \n",
       "102565           Paso Robles    Central Coast                   Moscato   \n",
       "20               Napa Valley             Napa                      Rosé   \n",
       "137390         Yakima Valley  Columbia Valley               White Blend   \n",
       "137384  Columbia Valley (WA)  Columbia Valley  Semillon-Sauvignon Blanc   \n",
       "56985   Santa Barbara County    Central Coast                Chardonnay   \n",
       "\n",
       "               winery  Points by Price  \n",
       "51461          Januik         4.750000  \n",
       "85050          Dunham         4.750000  \n",
       "136525            EOS         4.318182  \n",
       "130255            EOS         4.318182  \n",
       "115165            EOS         4.318182  \n",
       "102565            EOS         4.318182  \n",
       "20              Heitz         3.958333  \n",
       "137390         McCrea         3.800000  \n",
       "137384           Buty         3.800000  \n",
       "56985   Au Bon Climat         3.800000  "
      ]
     },
     "execution_count": 12,
     "metadata": {},
     "output_type": "execute_result"
    }
   ],
   "source": [
    "GT90 = USwine['points'].map(lambda x: x > 94)\n",
    "#look at points 95 and over\n",
    "GT90USwine = USwine[GT90]\n",
    "#make a list of 95 and over point wines\n",
    "sorted_US = GT90USwine.sort_values(by = ['Points by Price'], ascending=False)\n",
    "#sort it\n",
    "sorted_US.head(10)\n",
    "#look at top ten"
   ]
  },
  {
   "cell_type": "markdown",
   "metadata": {
    "_cell_guid": "32fefeac-5421-4d4a-a4ae-bd4fea33432e",
    "_uuid": "59da9a5e471be46628306c9d4923592d57205bc8"
   },
   "source": [
    "# Looking at What was said about the Wines"
   ]
  },
  {
   "cell_type": "markdown",
   "metadata": {
    "_cell_guid": "e95bc69f-1484-4f6a-a1b2-56a3bea6cb64",
    "_uuid": "b2957790f2fc9a6dbeaf4bc2cb632a450a429377"
   },
   "source": [
    "With my tables I can look up also the best \"College\" chardonnay, Moscato, or any other type of wine. There are a ton of different wines on this list and looking at top tens or best \"College\" wines would take a lot of time and make a lot of tables. Instead I decided to look at the description column and see what words where commonly used to describe our wines."
   ]
  },
  {
   "cell_type": "code",
   "execution_count": 13,
   "metadata": {
    "_cell_guid": "1fc47803-811f-4574-966d-357533256009",
    "_uuid": "e99b33e4a4c6ea8449dedb6a585d7e0279004b4f"
   },
   "outputs": [
    {
     "name": "stdout",
     "output_type": "stream",
     "text": [
      "<wordcloud.wordcloud.WordCloud object at 0x0000027F3A0C5C18>\n"
     ]
    },
    {
     "data": {
      "image/png": "[encoded data removed]",
      "text/plain": [
       "<matplotlib.figure.Figure at 0x27f32b4f4a8>"
      ]
     },
     "metadata": {},
     "output_type": "display_data"
    }
   ],
   "source": [
    "mpl.rcParams['figure.figsize']=(10.0,5.0)\n",
    "mpl.rcParams['font.size']=20                \n",
    "mpl.rcParams['savefig.dpi']=100              \n",
    "mpl.rcParams['figure.subplot.bottom']=.1 \n",
    "#make the frame the wordcloud will be in\n",
    "\n",
    "stopwords = set(STOPWORDS)\n",
    "data = USwine\n",
    "#get stop words and the data\n",
    "\n",
    "wordcloud = WordCloud(\n",
    "                          background_color='white',\n",
    "                          stopwords=stopwords,\n",
    "                          max_words=100,\n",
    "                          max_font_size=50, \n",
    "                          random_state=False\n",
    "                         ).generate(str(data['description']))\n",
    "#varibles for the wordcloud\n",
    "\n",
    "print(wordcloud)\n",
    "fig = plt.figure(1)\n",
    "plt.imshow(wordcloud)\n",
    "plt.axis('off')\n",
    "plt.savefig('wordcloud.png', bbox_inches='tight')\n",
    "plt.show()\n",
    "#show wordcloud\n"
   ]
  },
  {
   "cell_type": "markdown",
   "metadata": {
    "_cell_guid": "3c110cab-941c-450b-bdec-7692c8fa3c49",
    "_uuid": "367ee2e9bcd5e87276449bd16184e295f982e40b"
   },
   "source": [
    "Here we can see that they like to talk about the fruity taste, the blend, and how rich it is. Since this is a list with wines only 80 or above as you can see above most of the words are positive or describing the wines. After you drink some of the wines on this list I think a good next step would be to look at what words they use to describe your favorites and then search for other wines that are fruity, rich, or any other words in the description. That would give you a great starting point to find other great \"College\" wines."
   ]
  }
 ],
 "metadata": {
  "kernelspec": {
   "display_name": "Python [default]",
   "language": "python",
   "name": "python3"
  },
  "language_info": {
   "codemirror_mode": {
    "name": "ipython",
    "version": 3
   },
   "file_extension": ".py",
   "mimetype": "text/x-python",
   "name": "python",
   "nbconvert_exporter": "python",
   "pygments_lexer": "ipython3",
   "version": "3.6.3"
  }
 },
 "nbformat": 4,
 "nbformat_minor": 1
}
